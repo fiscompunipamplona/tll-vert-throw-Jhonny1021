{
 "cells": [
  {
   "cell_type": "code",
   "execution_count": 1,
   "metadata": {},
   "outputs": [],
   "source": [
    "from numpy import array, linspace, arange, ndarray\n",
    "from math import sin, cos, pi\n",
    "from pylab import plot, xlabel, ylabel, show\n",
    "from scipy.integrate import odeint\n"
   ]
  },
  {
   "cell_type": "code",
   "execution_count": 2,
   "metadata": {},
   "outputs": [
    {
     "name": "stdout",
     "output_type": "stream",
     "text": [
      "-490.0000000007526\n",
      "9510.0\n"
     ]
    }
   ],
   "source": [
    "g= 9.8   # condiciones iniciales \n",
    "error = 1e-10   # Target accuracy for binary search-porcetaje de error tolerancia\n",
    "\n",
    "def fun(ini,t):\n",
    "    y=ini[0]\n",
    "    dy =ini[1]\n",
    "    ddy = -g \n",
    "    return array([dy,ddy],float)\n",
    "\n",
    "\n",
    "n_steps = 100\n",
    "t_start = 0.\n",
    "t_final = 10.\n",
    "t = linspace(t_start, t_final, n_steps)\n",
    "y=0.0\n",
    "vi= 0.\n",
    "vf = 1000.0 # velocidad inicial \n",
    "\n",
    "ini1 = array([y,vi], float) # comdiciones inicuiales   \n",
    "ini2 = array([y,vf], float) # comdiciones inicuiales   \n",
    "\n",
    "a1, outodeint = odeint( fun,ini1,t, full_output=True)\n",
    "\n",
    "a2, outodeint = odeint( fun,ini2,t, full_output=True)\n",
    "\n",
    "h1=a1[n_steps-1,0]\n",
    "\n",
    "h2=a2[n_steps-1,0] \n",
    "print (h1)\n",
    "print (h2)"
   ]
  },
  {
   "cell_type": "code",
   "execution_count": null,
   "metadata": {},
   "outputs": [],
   "source": [
    "#h1 = a1(vi) # altura lo que devueklve la ecuacion diferencial para velocidad 1 y dos \n",
    "#h2 = a2(vf) # como querremos calcular la ultima nos quedamos con esta \n",
    "\n",
    "vi= 0.\n",
    "vf = 1000.0\n",
    "\n",
    "while abs(h2-h1)>error:\n",
    "    y=0.0\n",
    "    vp = (vi+vf)/2 # vel promedio \n",
    "    init3=[y,vp]\n",
    "    sol=odeint(fun,init3,t)\n",
    "    hp =sol[n_steps-1,0] # altura promedio \n",
    "    if h1*hp>0:  \n",
    "        v1 = vp\n",
    "        h1 = hp\n",
    "    else:\n",
    "        \n",
    "        v2 = vp\n",
    "        h2 = hp\n",
    "\n",
    "v = (v1+v2)/2\n",
    "print(\"The required initial velocity is\",v,\"m/s\")"
   ]
  },
  {
   "cell_type": "code",
   "execution_count": null,
   "metadata": {},
   "outputs": [],
   "source": []
  },
  {
   "cell_type": "code",
   "execution_count": null,
   "metadata": {},
   "outputs": [],
   "source": []
  }
 ],
 "metadata": {
  "kernelspec": {
   "display_name": "Python 3",
   "language": "python",
   "name": "python3"
  },
  "language_info": {
   "codemirror_mode": {
    "name": "ipython",
    "version": 3
   },
   "file_extension": ".py",
   "mimetype": "text/x-python",
   "name": "python",
   "nbconvert_exporter": "python",
   "pygments_lexer": "ipython3",
   "version": "3.7.3"
  }
 },
 "nbformat": 4,
 "nbformat_minor": 2
}
